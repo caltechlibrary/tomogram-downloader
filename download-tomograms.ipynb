{
 "cells": [
  {
   "cell_type": "code",
   "execution_count": 1,
   "id": "3367b8b7-4733-4617-97c4-65a15df97561",
   "metadata": {},
   "outputs": [],
   "source": [
    "import os\n",
    "import requests\n",
    "import s3fs\n",
    "\n",
    "#Set up configuration variables\n",
    "caltechdata_url = 'https://data.caltechlibrary.dev/api/records'\n",
    "prefix = '10.33569/'\n",
    "osn_endpoint = 'https://renc.osn.xsede.org/'\n",
    "osn_path = 'ini210004tommorrell/tomography_archive/'\n",
    "local_directory = 'data'\n"
   ]
  },
  {
   "cell_type": "code",
   "execution_count": 2,
   "id": "29017c0e-81c0-4809-bdf7-08317db045e9",
   "metadata": {},
   "outputs": [
    {
     "name": "stdout",
     "output_type": "stream",
     "text": [
      "1 record found\n"
     ]
    }
   ],
   "source": [
    "#Query CaltechDATA to get identifiers of items of interest\n",
    "\n",
    "keyword = \"Bdellovibrio bacteriovorus\"\n",
    "\n",
    "data = {\"q\":f\"metadata.subjects.subject={keyword}\"}\n",
    "\n",
    "response = requests.get(caltechdata_url,data)\n",
    "\n",
    "hits = response.json()['hits']\n",
    "print(f\"{hits['total']} record found\")\n",
    "\n",
    "\n",
    "tiltids = {}\n",
    "for hit in hits['hits']:\n",
    "    doi = hit['pids']['doi']['identifier']\n",
    "    tiltid = hit['metadata']['identifiers'][0]['identifier']\n",
    "    tiltids[tiltid] = doi\n",
    "    "
   ]
  },
  {
   "cell_type": "code",
   "execution_count": null,
   "id": "9bb20de8-bcb5-4df3-9ef6-b6d894bb46d2",
   "metadata": {},
   "outputs": [
    {
     "name": "stdout",
     "output_type": "stream",
     "text": [
      "Downloading ycw2012-12-05-10\n"
     ]
    }
   ],
   "source": [
    "# Download files directly from Open Storage Network\n",
    "\n",
    "#Set up local directory for files\n",
    "if not os.path.isdir(local_directory):\n",
    "    os.mkdir(local_directory)\n",
    "os.chdir(local_directory)\n",
    "\n",
    "# Copy files using S3 interface\n",
    "osn_s3 = s3fs.S3FileSystem(anon=True, client_kwargs={\"endpoint_url\": osn_endpoint})\n",
    "\n",
    "for tiltid in tiltids:\n",
    "    print(f'Downloading {tiltid}')\n",
    "    osn_s3.get(osn_path+tiltid, '.',recursive=True)\n"
   ]
  },
  {
   "cell_type": "code",
   "execution_count": null,
   "id": "581f446f-8902-4f73-9b84-f9fb768df81d",
   "metadata": {},
   "outputs": [],
   "source": []
  }
 ],
 "metadata": {
  "kernelspec": {
   "display_name": "Python 3 (ipykernel)",
   "language": "python",
   "name": "python3"
  },
  "language_info": {
   "codemirror_mode": {
    "name": "ipython",
    "version": 3
   },
   "file_extension": ".py",
   "mimetype": "text/x-python",
   "name": "python",
   "nbconvert_exporter": "python",
   "pygments_lexer": "ipython3",
   "version": "3.9.16"
  }
 },
 "nbformat": 4,
 "nbformat_minor": 5
}
